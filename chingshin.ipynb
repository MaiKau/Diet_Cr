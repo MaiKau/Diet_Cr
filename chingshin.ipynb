{
 "cells": [
  {
   "cell_type": "code",
   "execution_count": 15,
   "metadata": {},
   "outputs": [
    {
     "name": "stdout",
     "output_type": "stream",
     "text": [
      "['https://www.chingshin.tw/product/oolong-green-tea', 'https://www.chingshin.tw/product/finest-green-tea', 'https://www.chingshin.tw/product/ceylon-black-tea', 'https://www.chingshin.tw/product/premium-oolong-tea', 'https://www.chingshin.tw/product/taiwan-four-seasons-oolong-tea', 'https://www.chingshin.tw/product/finest-puer-tea', 'https://www.chingshin.tw/product/jade-oolong-tea', 'https://www.chingshin.tw/product/finest-mountain-tea', 'https://www.chingshin.tw/product/toffee-coffee-milk-tea', 'https://www.chingshin.tw/product/pearl-milk-tea', 'https://www.chingshin.tw/product/ceylon-black-milk-tea', 'https://www.chingshin.tw/product/oolong-milk-tea', 'https://www.chingshin.tw/product/finest-green-milk-tea', 'https://www.chingshin.tw/product/grass-jelly-milk-tea', 'https://www.chingshin.tw/product/coconut-jelly-milk-tea', 'https://www.chingshin.tw/product/pudding-milk-tea', 'https://www.chingshin.tw/product/coffee-jelly-milk-tea', 'https://www.chingshin.tw/product/mini-pearl-milk-tea', 'https://www.chingshin.tw/product/honey-milk-tea', 'https://www.chingshin.tw/product/sesame-milk-tea', 'https://www.chingshin.tw/product/fresh-milk-tea', 'https://www.chingshin.tw/product/pearl-tea-with-fresh-milk', 'https://www.chingshin.tw/product/pearl-puer-tea-with-fresh-milk-and-honey', 'https://www.chingshin.tw/product/premium-chocolate-latte', 'https://www.chingshin.tw/product/winter-melon-tea-with-fresh-milk', 'https://www.chingshin.tw/product/coffee-latte', 'https://www.chingshin.tw/product/mini-pearl-tea-with-fresh-milk', 'https://www.chingshin.tw/product/pearl-sesame-latte', 'https://www.chingshin.tw/product/dark-chocolate-latte', 'https://www.chingshin.tw/product/red-bull-sugarfree-with-green-tea', 'https://www.chingshin.tw/product/red-bull-with-black-tea', 'https://www.chingshin.tw/product/plum-green-tea', 'https://www.chingshin.tw/product/honey-oolong-tea', 'https://www.chingshin.tw/product/honey-green-tea', 'https://www.chingshin.tw/product/premium-chocolate-milk', 'https://www.chingshin.tw/product/dark-chocolate-milk', 'https://www.chingshin.tw/product/iced-honey-drink', 'https://www.chingshin.tw/product/lemon-plum-green-tea', 'https://www.chingshin.tw/product/milk-coffee', 'https://www.chingshin.tw/product/taro-milk-tea', 'https://www.chingshin.tw/product/Pineapple-Black-Tea', 'https://www.chingshin.tw/product/honey-lemon-juice', 'https://www.chingshin.tw/product/honey-lemon-juice-with-aloe-jelly', 'https://www.chingshin.tw/product/kumquat-lemon-juice', 'https://www.chingshin.tw/product/grapefruit-green-tea', 'https://www.chingshin.tw/product/lemon-black-tea', 'https://www.chingshin.tw/product/lemon-green-tea', 'https://www.chingshin.tw/product/lemon-juice', 'https://www.chingshin.tw/product/grapefruit-juice', 'https://www.chingshin.tw/product/kumquat-juice', 'https://www.chingshin.tw/product/winter-melon-tea', 'https://www.chingshin.tw/product/winter-melon-oolong-tea', 'https://www.chingshin.tw/product/lemon-winter-melon-tea', 'https://www.chingshin.tw/product/yogurt-green-tea', 'https://www.chingshin.tw/product/yogurt-green-tea-with-aloe-jelly', 'https://www.chingshin.tw/product/lemon-yogurt-drink', 'https://www.chingshin.tw/product/grapefruit-yogurt-drink', 'https://www.chingshin.tw/product/ice-cream-black-tea', 'https://www.chingshin.tw/product/ice-cream-milk-tea', 'https://www.chingshin.tw/product/pearl-ice-cream-pudding-black-tea', 'https://www.chingshin.tw/product/apple-cider-vinegar-drink', 'https://www.chingshin.tw/product/apple-cider-vinegar-black-tea', 'https://www.chingshin.tw/product/honey-infused-apple-cider-vinegar', 'https://www.chingshin.tw/product/blueberry-vinegar-drink', 'https://www.chingshin.tw/product/blueberry-vinegar-with-aloe-jelly', 'https://www.chingshin.tw/product/honey-infused-blueberry-vinegar', 'https://www.chingshin.tw/product/longan-tea', 'https://www.chingshin.tw/product/longan-fresh-milk-tea']\n"
     ]
    }
   ],
   "source": [
    "from selenium import webdriver\n",
    "from bs4 import BeautifulSoup,NavigableString,Tag\n",
    "import requests\n",
    "import pyodbc\n",
    "import time\n",
    "#-------------------------------------------------------各類別的網址--------------------------------------------------#\n",
    "res=requests.get(\"https://www.chingshin.tw/product.php\",headers={'Connect':'close'},timeout=5)\n",
    "soup=BeautifulSoup(res.text)\n",
    "product_links=[]\n",
    "for k in soup.find_all('a'):\n",
    "    try:\n",
    "        product_links.append(\"https://www.chingshin.tw/\"+k['href'])\n",
    "    except:\n",
    "        pass\n",
    "    \n",
    "product_links2=[]    \n",
    "for x in product_links:                  #排除非產品的連結\n",
    "    if \".php\" not in x:\n",
    "        if \"#\" not in x:\n",
    "            if \".jpg\" not in x:\n",
    "                if \"product_catalogs\" not in x:\n",
    "                    if \"product\" in x:\n",
    "                        product_links2.append(x)\n",
    "        \n",
    "print(product_links2)"
   ]
  },
  {
   "cell_type": "code",
   "execution_count": 32,
   "metadata": {},
   "outputs": [
    {
     "name": "stdout",
     "output_type": "stream",
     "text": [
      "烏龍綠茶,['54大卡', '236大卡', '35大卡', '156大卡']\n",
      "特級綠茶,['48大卡', '214大卡', '32大卡', '141大卡']\n",
      "錫蘭紅茶,['50大卡', '220大卡', '33大卡', '145大卡']\n",
      "極品菁茶,['54大卡', '236大卡', '35大卡', '156大卡']\n",
      "原鄉四季,['29大卡', '134大卡', '19大卡', '88大卡']\n",
      "特選普洱,['48大卡', '211大卡', '32大卡', '139大卡']\n",
      "翡翠烏龍,['54大卡', '236大卡', '35大卡', '156大卡']\n",
      "嚴選高山茶,['54大卡', '236大卡', '35大卡', '156大卡']\n",
      "太妃鴛鴦奶茶,['57大卡', '733大卡', '37大卡', '483大卡']\n",
      "珍珠奶茶 / 波霸奶茶,['52大卡', '753大卡', '34大卡', '496大卡']\n",
      "錫蘭奶紅,['58大卡', '684大卡', '38大卡', '451大卡']\n",
      "烏龍奶茶,['61大卡', '661大卡', '40大卡', '436大卡']\n",
      "特級奶綠,['57大卡', '648大卡', '37大卡', '427大卡']\n",
      "仙草凍奶茶,['62大卡', '491大卡', '41大卡', '323大卡']\n",
      "椰果奶茶,['68大卡', '562大卡', '45大卡', '371大卡']\n",
      "布丁奶茶,['54大卡', '563大卡', '36大卡', '371大卡']\n",
      "暗黑水晶奶茶,['78大卡', '616大卡', '51大卡', '406大卡']\n",
      "粉圓奶茶,['62大卡', '705大卡', '41大卡', '465大卡']\n",
      "蜂蜜奶茶,['75大卡', '771大卡', '50大卡', '508大卡']\n",
      "芝麻奶茶,['61大卡', '771大卡', '／', '／']\n",
      "紅茶拿鐵 /鮮奶茶,['64大卡', '392大卡', '42大卡', '258大卡']\n",
      "珍珠紅茶拿鐵 / 珍珠鮮奶茶,['54大卡', '637大卡', '35大卡', '420大卡']\n",
      "清心隱藏版 - 珍珠蜂蜜鮮奶普洱,['73卡', '565大卡', '48大卡', '373大卡']\n",
      "頂級可可拿鐵,['91大卡', '623大卡', '59大卡\\xa0', '432大卡\\xa0']\n",
      "鮮奶冬瓜,['58大卡', '336大卡', '/\\xa0', '/\\xa0']\n",
      "咖啡拿鐵,['61大卡', '433大卡', '40大卡', '286大卡']\n",
      "粉圓鮮奶茶,['60大卡', '491大卡', '39大卡', '323大卡']\n",
      "珍珠芝麻紅茶拿鐵,['75大卡', '571大卡', '\\xa0/', '\\xa0/']\n",
      "濃情巧克力拿鐵,['79大卡', '553大卡', '/\\xa0', '/\\xa0']\n",
      "Red Bull紅牛無糖能量綠茶,['0大卡', '25大卡', '/', '/']\n",
      "Red Bull紅牛能量紅茶,['39大卡', '161大卡', '/', '/']\n",
      "梅子綠茶,['48大卡', '211大卡', '32大卡', '139大卡']\n",
      "蜂蜜烏龍,['73大卡', '335大卡', '48大卡', '221大卡']\n",
      "蜂蜜綠茶,['68大卡', '314大卡', '45大卡', '207大卡']\n",
      "頂級可可,['78大卡', '564大卡', '53大卡', '369大卡']\n",
      "濃情巧克力,['66大卡', '494大卡', '44大卡', '322大卡']\n",
      "蜜茶,['57大卡', '267大卡', '38大卡', '176大卡']\n",
      "情人茶,['47大卡', '202大卡', '31大卡', '133大卡']\n",
      "咖啡奶茶,['49大卡', '381大卡', '32大卡', '251大卡']\n",
      "芋香奶茶,['54大卡', '633大卡', '36大卡', '418大卡']\n",
      "鳳梨紅茶,['75大卡', '\\n314大卡\\n', '50大卡', '207大卡']\n",
      "蜂蜜檸檬,['57大卡', '270大卡', '38大卡', '178大卡']\n",
      "蘆薈蜂蜜檸檬,['76大卡', '326大卡', '50大卡', '215大卡']\n",
      "金桔檸檬,['50大卡', '220大卡', '33大卡', '145大卡']\n",
      "葡萄柚綠茶,['62大卡', '258大卡', '41大卡', '170大卡']\n",
      "檸檬紅茶,['51大卡', '\\n217大卡\\n', '34大卡', '143大卡']\n",
      "檸檬綠茶,['49大卡', '211大卡', '32大卡', '139大卡']\n",
      "檸檬汁,['49大卡', '214大卡', '32大卡', '141大卡']\n",
      "葡萄柚汁,['57大卡', '239大卡', '38大卡', '158大卡']\n",
      "桔茶,['50大卡', '211大卡', '33大卡', '139大卡']\n",
      "冬瓜茶,['62大卡', '273大卡', '/', '/']\n",
      "冬瓜菁茶,['70大卡', '304大卡', '/', '/']\n",
      "冬瓜檸檬,['64大卡', '273大卡', '/', '/']\n",
      "優多綠茶 / 多多綠茶,['75大卡', '345大卡', '/\\xa0', '\\xa0/']\n",
      "蘆薈優多綠茶,['92大卡', '385大卡', '/\\xa0', '/\\xa0']\n",
      "優多檸檬,['76大卡', '348大卡', '/\\xa0', '/\\xa0']\n",
      "優多葡萄柚,['84大卡', '360大卡', '\\xa0/', '/\\xa0']\n",
      "冰淇淋紅茶,['90大卡', '556大卡', '59大卡', '366大卡']\n",
      "冰淇淋奶茶,['74大卡', '784大卡', '49大卡', '517大卡']\n",
      "【紅茶三兄弟】珍珠冰淇淋布丁紅茶,['76大卡', '677大卡', '\\xa0/', '\\xa0/']\n",
      "蘋果醋,['90大卡', '391大卡', '/', '/']\n",
      "蘋果醋紅茶,['92大卡', '404大卡', '/', '/']\n",
      "蜂蜜蘋果醋,['114大卡', '515大卡', '/', '/']\n",
      "藍莓醋,['85大卡', '373大卡', '/', '/']\n",
      "蘆薈藍莓醋,['111大卡', '466大卡', '/', '/']\n",
      "蜂蜜藍莓醋,['116大卡', '503大卡', '/', '/']\n",
      "桂圓茶,['65大卡', '290大卡', '49大卡', '217大卡']\n",
      "桂圓鮮奶茶,['65大卡', '405大卡', '49大卡', '309大卡']\n"
     ]
    }
   ],
   "source": [
    "i=-1\n",
    "for h in product_links2:\n",
    "    i=i+1\n",
    "    if i>87: #共86個產品(>87全爬)\n",
    "        break\n",
    "    else:\n",
    "        table_list=[]\n",
    "        res=requests.get(product_links2[i],headers={'Connect':'close'},timeout=5)\n",
    "        soup=BeautifulSoup(res.text)\n",
    "        for title in soup.find('h1'):\n",
    "            table_list.append(title.string)\n",
    "        for content in soup.find('table',{'class':'table table-striped table-rwd table_pink'}).find_all('tr'):\n",
    "            for td in content.find_all('td'):\n",
    "                table_list.append(td.text)\n",
    "        print(str(table_list[0])+\",\"+str(table_list[7:]))"
   ]
  }
 ],
 "metadata": {
  "kernelspec": {
   "display_name": "Python 3",
   "language": "python",
   "name": "python3"
  },
  "language_info": {
   "codemirror_mode": {
    "name": "ipython",
    "version": 3
   },
   "file_extension": ".py",
   "mimetype": "text/x-python",
   "name": "python",
   "nbconvert_exporter": "python",
   "pygments_lexer": "ipython3",
   "version": "3.7.3"
  }
 },
 "nbformat": 4,
 "nbformat_minor": 2
}
